{
 "cells": [
  {
   "cell_type": "code",
   "execution_count": null,
   "metadata": {},
   "outputs": [],
   "source": [
    "import numpy as np\n",
    "import pandas as pd\n",
    "from tqdm import tqdm\n",
    "\n",
    "from utils import delete_nones, encode_ids"
   ]
  },
  {
   "cell_type": "markdown",
   "metadata": {},
   "source": [
    "## Load and Preprocess data"
   ]
  },
  {
   "cell_type": "code",
   "execution_count": null,
   "metadata": {},
   "outputs": [],
   "source": [
    "frame = pd.read_csv(\"../data/clear_data.scv\")"
   ]
  },
  {
   "cell_type": "code",
   "execution_count": null,
   "metadata": {},
   "outputs": [],
   "source": [
    "frame = delete_nones(frame)\n",
    "frame = encode_ids(frame)"
   ]
  },
  {
   "cell_type": "code",
   "execution_count": null,
   "metadata": {},
   "outputs": [],
   "source": [
    "# TODO: move into main\n",
    "print('frame shape = ', frame.shape)\n",
    "print('num unique drivers = ', np.array(frame.driver_id.unique()).shape[0])\n",
    "print('num unique users = ', np.array(frame.user_id.unique()).shape[0])\n",
    "print('num unique rides = ', np.array(frame.ride_id.unique()).shape[0])"
   ]
  },
  {
   "cell_type": "code",
   "execution_count": null,
   "metadata": {},
   "outputs": [],
   "source": []
  },
  {
   "cell_type": "markdown",
   "metadata": {},
   "source": [
    "## Compute Features"
   ]
  },
  {
   "cell_type": "code",
   "execution_count": 1,
   "metadata": {},
   "outputs": [],
   "source": [
    "import xgboost as xgb\n",
    "from sklearn import metrics\n",
    "from sklearn.cross_validation import KFold\n",
    "from sklearn.preprocessing import normalize\n",
    "from sklearn.cross_validation import cross_val_score\n",
    "from sklearn.cross_validation import train_test_split\n"
   ]
  },
  {
   "cell_type": "code",
   "execution_count": null,
   "metadata": {},
   "outputs": [],
   "source": [
    "scores = []\n",
    "\n",
    "# read in data\n",
    "dtrain = xgb.DMatrix(np.array(X_train_add[[]]), \n",
    "                     label=np.array(y_train))\n",
    "\n",
    "dtest = xgb.DMatrix(np.array(X_test_add[[]]),\n",
    "                    label=np.array(y_test))\n",
    "\n",
    "# parameters\n",
    "params = [{'booster': 'dart',\n",
    "         'max_depth': 5, \n",
    "         'learning_rate': 0.1,\n",
    "         'objective': 'multi:softmax', \n",
    "         'silent': True,\n",
    "         'normalize_type': 'tree',\n",
    "         'rate_drop': 0.1,\n",
    "         'skip_drop': 0.5,\n",
    "         'num_class': 3},\n",
    "          \n",
    "         {'booster': 'dart',\n",
    "         'max_depth': 3, \n",
    "         'learning_rate': 0.01,\n",
    "         'objective': 'multi:softmax', \n",
    "         'silent': True,\n",
    "         'normalize_type': 'tree',\n",
    "         'rate_drop': 0.1,\n",
    "         'skip_drop': 0.8,\n",
    "         'num_class': 3},\n",
    "          \n",
    "         {'booster': 'gblinear',\n",
    "         'max_depth': 8, \n",
    "         'learning_rate': 0.001,\n",
    "         'objective': 'multi:softmax', \n",
    "         'silent': True,\n",
    "         'normalize_type': 'forest',\n",
    "         'num_class': 3},\n",
    "          \n",
    "        {'booster': 'dart',\n",
    "         'max_depth': 4, \n",
    "         'learning_rate': 0.1,\n",
    "         'objective': 'multi:softmax', \n",
    "         'silent': True,\n",
    "         'normalize_type': 'tree',\n",
    "         'rate_drop': 0.2,\n",
    "         'skip_drop': 0.6,\n",
    "         'num_class': 3}\n",
    "        ]\n",
    "\n",
    "num_round = 50\n",
    "\n",
    "for param_num, param in enumerate(params):\n",
    "    print()\n",
    "    print('##############################')\n",
    "    print('###           {}           ###'.format(param_num))\n",
    "    print('##############################')\n",
    "    bst = xgb.train(param, dtrain)\n",
    "    \n",
    "    y_pred = bst.predict(dtest)\n",
    "    scores.append(metrics.accuracy_score(y_test, y_pred))\n",
    "    \n",
    "    scores = cross_val_score(knn, X, y, cv=10, scoring='accuracy')"
   ]
  },
  {
   "cell_type": "code",
   "execution_count": null,
   "metadata": {},
   "outputs": [],
   "source": []
  },
  {
   "cell_type": "code",
   "execution_count": null,
   "metadata": {},
   "outputs": [],
   "source": []
  }
 ],
 "metadata": {
  "kernelspec": {
   "display_name": "Python 3",
   "language": "python",
   "name": "python3"
  },
  "language_info": {
   "codemirror_mode": {
    "name": "ipython",
    "version": 3
   },
   "file_extension": ".py",
   "mimetype": "text/x-python",
   "name": "python",
   "nbconvert_exporter": "python",
   "pygments_lexer": "ipython3",
   "version": "3.6.5"
  }
 },
 "nbformat": 4,
 "nbformat_minor": 2
}
