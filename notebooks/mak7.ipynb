{
 "cells": [
  {
   "cell_type": "code",
   "execution_count": 12,
   "metadata": {},
   "outputs": [],
   "source": [
    "import numpy as np\n",
    "import pandas as pd\n",
    "\n",
    "from tqdm import tqdm"
   ]
  },
  {
   "cell_type": "code",
   "execution_count": 10,
   "metadata": {},
   "outputs": [],
   "source": [
    "frame = pd.read_csv(\"../data/clear_data.scv\")"
   ]
  },
  {
   "cell_type": "code",
   "execution_count": 9,
   "metadata": {},
   "outputs": [
    {
     "name": "stdout",
     "output_type": "stream",
     "text": [
      "Frame shape =  (1117300, 12)\n"
     ]
    }
   ],
   "source": [
    "frame_columns = frame.columns\n",
    "print('Frame shape = ', frame.shape)"
   ]
  },
  {
   "cell_type": "code",
   "execution_count": 7,
   "metadata": {},
   "outputs": [
    {
     "data": {
      "text/plain": [
       "(121509, 12)"
      ]
     },
     "execution_count": 7,
     "metadata": {},
     "output_type": "execute_result"
    }
   ],
   "source": [
    "frame[frame['driver_id'].isna() == True].shape"
   ]
  },
  {
   "cell_type": "markdown",
   "metadata": {},
   "source": [
    "## Data Preprocessing"
   ]
  },
  {
   "cell_type": "code",
   "execution_count": 14,
   "metadata": {},
   "outputs": [
    {
     "name": "stderr",
     "output_type": "stream",
     "text": [
      "100%|██████████| 12/12 [00:00<00:00, 38.63it/s]"
     ]
    },
    {
     "name": "stdout",
     "output_type": "stream",
     "text": [
      "Number of Nones values in columns:\n",
      "\n",
      " {'ride_id': 0, 'created_at': 0, 'pickup_lat': 0, 'pickup_lng': 0, 'dropoff_lat': 0, 'dropoff_lng': 0, 'user_id': 0, 'driver_id': 121509, 'ride_distance': 0, 'canceled_by_client': 0, 'canceled_by_driver': 0, 'ride_to_suburb': 0}\n"
     ]
    },
    {
     "name": "stderr",
     "output_type": "stream",
     "text": [
      "\n"
     ]
    }
   ],
   "source": [
    "# check columns for None values\n",
    "column_none_dict = dict()\n",
    "\n",
    "for column_name in tqdm(frame_columns):\n",
    "    nones_column_shape = frame[frame[column_name].isna() == True].shape[0]\n",
    "    column_none_dict[column_name] = nones_column_shape\n",
    "    \n",
    "print('Number of Nones values in columns:\\n\\n', column_none_dict)"
   ]
  },
  {
   "cell_type": "code",
   "execution_count": 15,
   "metadata": {},
   "outputs": [
    {
     "name": "stdout",
     "output_type": "stream",
     "text": [
      "frame shape =  (1117300, 12)\n",
      "clear frame shape =  (1117300, 12)\n"
     ]
    }
   ],
   "source": [
    "# select values whithout none for drive_id\n",
    "clear_frame = frame[frame[''].isna() == False]\n",
    "\n",
    "print('frame shape = ', frame.shape)\n",
    "print('clear frame shape = ', clear_frame.shape)"
   ]
  },
  {
   "cell_type": "code",
   "execution_count": null,
   "metadata": {},
   "outputs": [],
   "source": []
  }
 ],
 "metadata": {
  "kernelspec": {
   "display_name": "Python 3",
   "language": "python",
   "name": "python3"
  },
  "language_info": {
   "codemirror_mode": {
    "name": "ipython",
    "version": 3
   },
   "file_extension": ".py",
   "mimetype": "text/x-python",
   "name": "python",
   "nbconvert_exporter": "python",
   "pygments_lexer": "ipython3",
   "version": "3.6.5"
  }
 },
 "nbformat": 4,
 "nbformat_minor": 2
}
