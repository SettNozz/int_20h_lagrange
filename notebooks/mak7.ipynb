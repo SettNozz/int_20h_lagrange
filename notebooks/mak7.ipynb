{
 "cells": [
  {
   "cell_type": "code",
   "execution_count": 4,
   "metadata": {},
   "outputs": [],
   "source": [
    "import numpy as np\n",
    "import pandas as pd\n",
    "from tqdm import tqdm\n",
    "from sklearn.preprocessing import LabelEncoder\n"
   ]
  },
  {
   "cell_type": "code",
   "execution_count": 2,
   "metadata": {},
   "outputs": [],
   "source": [
    "frame = pd.read_csv(\"../data/clear_data.scv\")"
   ]
  },
  {
   "cell_type": "code",
   "execution_count": 9,
   "metadata": {},
   "outputs": [
    {
     "name": "stdout",
     "output_type": "stream",
     "text": [
      "Frame shape =  (1117300, 12)\n"
     ]
    }
   ],
   "source": [
    "frame_columns = frame.columns\n",
    "print('Frame shape = ', frame.shape)"
   ]
  },
  {
   "cell_type": "code",
   "execution_count": 7,
   "metadata": {},
   "outputs": [
    {
     "data": {
      "text/plain": [
       "(121509, 12)"
      ]
     },
     "execution_count": 7,
     "metadata": {},
     "output_type": "execute_result"
    }
   ],
   "source": [
    "frame[frame['driver_id'].isna() == True].shape"
   ]
  },
  {
   "cell_type": "markdown",
   "metadata": {},
   "source": [
    "## Data Preprocessing"
   ]
  },
  {
   "cell_type": "code",
   "execution_count": 14,
   "metadata": {},
   "outputs": [
    {
     "name": "stderr",
     "output_type": "stream",
     "text": [
      "100%|██████████| 12/12 [00:00<00:00, 38.63it/s]"
     ]
    },
    {
     "name": "stdout",
     "output_type": "stream",
     "text": [
      "Number of Nones values in columns:\n",
      "\n",
      " {'ride_id': 0, 'created_at': 0, 'pickup_lat': 0, 'pickup_lng': 0, 'dropoff_lat': 0, 'dropoff_lng': 0, 'user_id': 0, 'driver_id': 121509, 'ride_distance': 0, 'canceled_by_client': 0, 'canceled_by_driver': 0, 'ride_to_suburb': 0}\n"
     ]
    },
    {
     "name": "stderr",
     "output_type": "stream",
     "text": [
      "\n"
     ]
    }
   ],
   "source": [
    "# check columns for None values\n",
    "column_none_dict = dict()\n",
    "\n",
    "for column_name in tqdm(frame_columns):\n",
    "    nones_column_shape = frame[frame[column_name].isna() == True].shape[0]\n",
    "    column_none_dict[column_name] = nones_column_shape\n",
    "    \n",
    "print('Number of Nones values in columns:\\n\\n', column_none_dict)"
   ]
  },
  {
   "cell_type": "code",
   "execution_count": 16,
   "metadata": {},
   "outputs": [
    {
     "name": "stdout",
     "output_type": "stream",
     "text": [
      "frame shape =  (1117300, 12)\n",
      "clear frame shape =  (995791, 12)\n"
     ]
    }
   ],
   "source": [
    "# select values whithout none for drive_id\n",
    "clear_frame = frame[frame['driver_id'].isna() == False]\n",
    "\n",
    "print('frame shape = ', frame.shape)\n",
    "print('clear frame shape = ', clear_frame.shape)"
   ]
  },
  {
   "cell_type": "code",
   "execution_count": null,
   "metadata": {},
   "outputs": [],
   "source": []
  },
  {
   "cell_type": "code",
   "execution_count": null,
   "metadata": {},
   "outputs": [],
   "source": []
  },
  {
   "cell_type": "code",
   "execution_count": null,
   "metadata": {},
   "outputs": [],
   "source": []
  },
  {
   "cell_type": "code",
   "execution_count": 18,
   "metadata": {},
   "outputs": [
    {
     "data": {
      "text/html": [
       "<div>\n",
       "<style scoped>\n",
       "    .dataframe tbody tr th:only-of-type {\n",
       "        vertical-align: middle;\n",
       "    }\n",
       "\n",
       "    .dataframe tbody tr th {\n",
       "        vertical-align: top;\n",
       "    }\n",
       "\n",
       "    .dataframe thead th {\n",
       "        text-align: right;\n",
       "    }\n",
       "</style>\n",
       "<table border=\"1\" class=\"dataframe\">\n",
       "  <thead>\n",
       "    <tr style=\"text-align: right;\">\n",
       "      <th></th>\n",
       "      <th>ride_id</th>\n",
       "      <th>created_at</th>\n",
       "      <th>pickup_lat</th>\n",
       "      <th>pickup_lng</th>\n",
       "      <th>dropoff_lat</th>\n",
       "      <th>dropoff_lng</th>\n",
       "      <th>user_id</th>\n",
       "      <th>driver_id</th>\n",
       "      <th>ride_distance</th>\n",
       "      <th>canceled_by_client</th>\n",
       "      <th>canceled_by_driver</th>\n",
       "      <th>ride_to_suburb</th>\n",
       "    </tr>\n",
       "  </thead>\n",
       "  <tbody>\n",
       "    <tr>\n",
       "      <th>0</th>\n",
       "      <td>000002b3a3014388a6c62fdda1d03de1n</td>\n",
       "      <td>2018-12-14 23:00:00.043000000</td>\n",
       "      <td>49.824671</td>\n",
       "      <td>24.013246</td>\n",
       "      <td>49.784729</td>\n",
       "      <td>24.060303</td>\n",
       "      <td>3900450045004500300042003700310037003800460031...</td>\n",
       "      <td>a429c637c1244bb7a1d606d2b9987bdd</td>\n",
       "      <td>7.97</td>\n",
       "      <td>0</td>\n",
       "      <td>0</td>\n",
       "      <td>0</td>\n",
       "    </tr>\n",
       "    <tr>\n",
       "      <th>1</th>\n",
       "      <td>000013de085e4be4a2cd27d9112f7bdbn</td>\n",
       "      <td>2018-10-13 23:59:00.580000000</td>\n",
       "      <td>49.837906</td>\n",
       "      <td>24.029772</td>\n",
       "      <td>49.841217</td>\n",
       "      <td>23.974363</td>\n",
       "      <td>6227785C7862375C7863623F5C7866652E285F2D5C7861...</td>\n",
       "      <td>NaN</td>\n",
       "      <td>5.62</td>\n",
       "      <td>1</td>\n",
       "      <td>0</td>\n",
       "      <td>0</td>\n",
       "    </tr>\n",
       "    <tr>\n",
       "      <th>2</th>\n",
       "      <td>000040911549444d8ad461c69370e883n</td>\n",
       "      <td>2018-08-25 21:40:52.537000000</td>\n",
       "      <td>49.839718</td>\n",
       "      <td>23.994425</td>\n",
       "      <td>49.840610</td>\n",
       "      <td>24.029135</td>\n",
       "      <td>62277C6C5C7866386C572C795C7838315C7831645C7863...</td>\n",
       "      <td>7323767ede0349d1a7bfe743a091d63c</td>\n",
       "      <td>3.17</td>\n",
       "      <td>0</td>\n",
       "      <td>0</td>\n",
       "      <td>0</td>\n",
       "    </tr>\n",
       "    <tr>\n",
       "      <th>3</th>\n",
       "      <td>0000759fc38a410e8d8802610800ccacn</td>\n",
       "      <td>2018-12-08 13:43:41.357000000</td>\n",
       "      <td>49.829708</td>\n",
       "      <td>24.044172</td>\n",
       "      <td>49.869137</td>\n",
       "      <td>24.010246</td>\n",
       "      <td>62275C7864335C78393135635C6E5C7830355C7839645C...</td>\n",
       "      <td>NaN</td>\n",
       "      <td>5.87</td>\n",
       "      <td>1</td>\n",
       "      <td>0</td>\n",
       "      <td>0</td>\n",
       "    </tr>\n",
       "    <tr>\n",
       "      <th>4</th>\n",
       "      <td>0000e61e5282484d943291df7266ee33n</td>\n",
       "      <td>2019-01-18 09:18:44.377000000</td>\n",
       "      <td>49.837013</td>\n",
       "      <td>24.034357</td>\n",
       "      <td>49.832710</td>\n",
       "      <td>23.999216</td>\n",
       "      <td>3300360037004600420041003600300032003500410033...</td>\n",
       "      <td>2913413c2bf748d7932d1d587c8aef13</td>\n",
       "      <td>3.39</td>\n",
       "      <td>0</td>\n",
       "      <td>0</td>\n",
       "      <td>0</td>\n",
       "    </tr>\n",
       "  </tbody>\n",
       "</table>\n",
       "</div>"
      ],
      "text/plain": [
       "                             ride_id                     created_at  \\\n",
       "0  000002b3a3014388a6c62fdda1d03de1n  2018-12-14 23:00:00.043000000   \n",
       "1  000013de085e4be4a2cd27d9112f7bdbn  2018-10-13 23:59:00.580000000   \n",
       "2  000040911549444d8ad461c69370e883n  2018-08-25 21:40:52.537000000   \n",
       "3  0000759fc38a410e8d8802610800ccacn  2018-12-08 13:43:41.357000000   \n",
       "4  0000e61e5282484d943291df7266ee33n  2019-01-18 09:18:44.377000000   \n",
       "\n",
       "   pickup_lat  pickup_lng  dropoff_lat  dropoff_lng  \\\n",
       "0   49.824671   24.013246    49.784729    24.060303   \n",
       "1   49.837906   24.029772    49.841217    23.974363   \n",
       "2   49.839718   23.994425    49.840610    24.029135   \n",
       "3   49.829708   24.044172    49.869137    24.010246   \n",
       "4   49.837013   24.034357    49.832710    23.999216   \n",
       "\n",
       "                                             user_id  \\\n",
       "0  3900450045004500300042003700310037003800460031...   \n",
       "1  6227785C7862375C7863623F5C7866652E285F2D5C7861...   \n",
       "2  62277C6C5C7866386C572C795C7838315C7831645C7863...   \n",
       "3  62275C7864335C78393135635C6E5C7830355C7839645C...   \n",
       "4  3300360037004600420041003600300032003500410033...   \n",
       "\n",
       "                          driver_id  ride_distance  canceled_by_client  \\\n",
       "0  a429c637c1244bb7a1d606d2b9987bdd           7.97                   0   \n",
       "1                               NaN           5.62                   1   \n",
       "2  7323767ede0349d1a7bfe743a091d63c           3.17                   0   \n",
       "3                               NaN           5.87                   1   \n",
       "4  2913413c2bf748d7932d1d587c8aef13           3.39                   0   \n",
       "\n",
       "   canceled_by_driver  ride_to_suburb  \n",
       "0                   0               0  \n",
       "1                   0               0  \n",
       "2                   0               0  \n",
       "3                   0               0  \n",
       "4                   0               0  "
      ]
     },
     "execution_count": 18,
     "metadata": {},
     "output_type": "execute_result"
    }
   ],
   "source": [
    "frame.head()"
   ]
  },
  {
   "cell_type": "code",
   "execution_count": 19,
   "metadata": {},
   "outputs": [],
   "source": [
    "# ID encoding\n",
    "\n",
    "columns_id = ['ride_id']\n",
    "\n",
    "for column_id in columns_id:\n",
    "    le = LabelEncoder()\n",
    "    \n",
    "    frame[column_id] = le.fit_transform(frame[column_id])\n",
    "    "
   ]
  },
  {
   "cell_type": "code",
   "execution_count": 22,
   "metadata": {},
   "outputs": [
    {
     "data": {
      "text/plain": [
       "Index(['ride_id', 'created_at', 'pickup_lat', 'pickup_lng', 'dropoff_lat',\n",
       "       'dropoff_lng', 'user_id', 'driver_id', 'ride_distance',\n",
       "       'canceled_by_client', 'canceled_by_driver', 'ride_to_suburb'],\n",
       "      dtype='object')"
      ]
     },
     "execution_count": 22,
     "metadata": {},
     "output_type": "execute_result"
    }
   ],
   "source": [
    "frame_columns"
   ]
  },
  {
   "cell_type": "code",
   "execution_count": 6,
   "metadata": {},
   "outputs": [],
   "source": [
    "def delete_nones(frame):\n",
    "    # select values whithout none for drive_id\n",
    "    clear_frame = frame[frame['driver_id'].isna() == False]\n",
    "\n",
    "    print('frame shape = ', frame.shape)\n",
    "    print('clear frame shape = ', clear_frame.shape)\n",
    "\n",
    "    return clear_frame\n",
    "\n",
    "\n",
    "def encode_ids(frame):\n",
    "    # ID encoding\n",
    "\n",
    "    columns_id = ['ride_id', 'user_id', 'driver_id']\n",
    "\n",
    "    for column_id in columns_id:\n",
    "        le = LabelEncoder()\n",
    "        frame[column_id] = le.fit_transform(frame[column_id])\n",
    "\n",
    "    return frame\n"
   ]
  },
  {
   "cell_type": "code",
   "execution_count": 7,
   "metadata": {},
   "outputs": [
    {
     "name": "stdout",
     "output_type": "stream",
     "text": [
      "frame shape =  (1117300, 12)\n",
      "clear frame shape =  (995791, 12)\n"
     ]
    },
    {
     "name": "stderr",
     "output_type": "stream",
     "text": [
      "/home/mak7/PycharmProjects/MURA/mur/lib/python3.6/site-packages/ipykernel_launcher.py:18: SettingWithCopyWarning: \n",
      "A value is trying to be set on a copy of a slice from a DataFrame.\n",
      "Try using .loc[row_indexer,col_indexer] = value instead\n",
      "\n",
      "See the caveats in the documentation: http://pandas.pydata.org/pandas-docs/stable/indexing.html#indexing-view-versus-copy\n"
     ]
    }
   ],
   "source": [
    "# TODO: move into main\n",
    "frame = delete_nones(frame)\n",
    "frame = encode_ids(frame)"
   ]
  },
  {
   "cell_type": "code",
   "execution_count": 15,
   "metadata": {},
   "outputs": [
    {
     "name": "stdout",
     "output_type": "stream",
     "text": [
      "frame shape =  (995791, 12)\n",
      "num unique drivers =  4327\n",
      "num unique users =  122713\n",
      "num unique rides =  995791\n"
     ]
    }
   ],
   "source": [
    "# TODO: move into main\n",
    "print('frame shape = ', frame.shape)\n",
    "print('num unique drivers = ', np.array(frame.driver_id.unique()).shape[0])\n",
    "print('num unique users = ', np.array(frame.user_id.unique()).shape[0])\n",
    "print('num unique rides = ', np.array(frame.ride_id.unique()).shape[0])"
   ]
  },
  {
   "cell_type": "markdown",
   "metadata": {},
   "source": [
    "### Zone discretizing"
   ]
  },
  {
   "cell_type": "code",
   "execution_count": 8,
   "metadata": {},
   "outputs": [
    {
     "data": {
      "text/html": [
       "<div>\n",
       "<style scoped>\n",
       "    .dataframe tbody tr th:only-of-type {\n",
       "        vertical-align: middle;\n",
       "    }\n",
       "\n",
       "    .dataframe tbody tr th {\n",
       "        vertical-align: top;\n",
       "    }\n",
       "\n",
       "    .dataframe thead th {\n",
       "        text-align: right;\n",
       "    }\n",
       "</style>\n",
       "<table border=\"1\" class=\"dataframe\">\n",
       "  <thead>\n",
       "    <tr style=\"text-align: right;\">\n",
       "      <th></th>\n",
       "      <th>ride_id</th>\n",
       "      <th>created_at</th>\n",
       "      <th>pickup_lat</th>\n",
       "      <th>pickup_lng</th>\n",
       "      <th>dropoff_lat</th>\n",
       "      <th>dropoff_lng</th>\n",
       "      <th>user_id</th>\n",
       "      <th>driver_id</th>\n",
       "      <th>ride_distance</th>\n",
       "      <th>canceled_by_client</th>\n",
       "      <th>canceled_by_driver</th>\n",
       "      <th>ride_to_suburb</th>\n",
       "    </tr>\n",
       "  </thead>\n",
       "  <tbody>\n",
       "    <tr>\n",
       "      <th>0</th>\n",
       "      <td>0</td>\n",
       "      <td>2018-12-14 23:00:00.043000000</td>\n",
       "      <td>49.824671</td>\n",
       "      <td>24.013246</td>\n",
       "      <td>49.784729</td>\n",
       "      <td>24.060303</td>\n",
       "      <td>45133</td>\n",
       "      <td>2726</td>\n",
       "      <td>7.97</td>\n",
       "      <td>0</td>\n",
       "      <td>0</td>\n",
       "      <td>0</td>\n",
       "    </tr>\n",
       "    <tr>\n",
       "      <th>2</th>\n",
       "      <td>1</td>\n",
       "      <td>2018-08-25 21:40:52.537000000</td>\n",
       "      <td>49.839718</td>\n",
       "      <td>23.994425</td>\n",
       "      <td>49.840610</td>\n",
       "      <td>24.029135</td>\n",
       "      <td>122255</td>\n",
       "      <td>1942</td>\n",
       "      <td>3.17</td>\n",
       "      <td>0</td>\n",
       "      <td>0</td>\n",
       "      <td>0</td>\n",
       "    </tr>\n",
       "    <tr>\n",
       "      <th>4</th>\n",
       "      <td>2</td>\n",
       "      <td>2019-01-18 09:18:44.377000000</td>\n",
       "      <td>49.837013</td>\n",
       "      <td>24.034357</td>\n",
       "      <td>49.832710</td>\n",
       "      <td>23.999216</td>\n",
       "      <td>20280</td>\n",
       "      <td>665</td>\n",
       "      <td>3.39</td>\n",
       "      <td>0</td>\n",
       "      <td>0</td>\n",
       "      <td>0</td>\n",
       "    </tr>\n",
       "    <tr>\n",
       "      <th>5</th>\n",
       "      <td>3</td>\n",
       "      <td>2018-10-03 16:53:48.097000000</td>\n",
       "      <td>49.871124</td>\n",
       "      <td>23.957130</td>\n",
       "      <td>49.858883</td>\n",
       "      <td>24.019121</td>\n",
       "      <td>77669</td>\n",
       "      <td>1456</td>\n",
       "      <td>6.74</td>\n",
       "      <td>0</td>\n",
       "      <td>0</td>\n",
       "      <td>0</td>\n",
       "    </tr>\n",
       "    <tr>\n",
       "      <th>6</th>\n",
       "      <td>4</td>\n",
       "      <td>2019-01-25 06:25:31.730000000</td>\n",
       "      <td>49.785679</td>\n",
       "      <td>24.055679</td>\n",
       "      <td>49.842602</td>\n",
       "      <td>24.000990</td>\n",
       "      <td>57120</td>\n",
       "      <td>3846</td>\n",
       "      <td>13.16</td>\n",
       "      <td>0</td>\n",
       "      <td>0</td>\n",
       "      <td>0</td>\n",
       "    </tr>\n",
       "  </tbody>\n",
       "</table>\n",
       "</div>"
      ],
      "text/plain": [
       "   ride_id                     created_at  pickup_lat  pickup_lng  \\\n",
       "0        0  2018-12-14 23:00:00.043000000   49.824671   24.013246   \n",
       "2        1  2018-08-25 21:40:52.537000000   49.839718   23.994425   \n",
       "4        2  2019-01-18 09:18:44.377000000   49.837013   24.034357   \n",
       "5        3  2018-10-03 16:53:48.097000000   49.871124   23.957130   \n",
       "6        4  2019-01-25 06:25:31.730000000   49.785679   24.055679   \n",
       "\n",
       "   dropoff_lat  dropoff_lng  user_id  driver_id  ride_distance  \\\n",
       "0    49.784729    24.060303    45133       2726           7.97   \n",
       "2    49.840610    24.029135   122255       1942           3.17   \n",
       "4    49.832710    23.999216    20280        665           3.39   \n",
       "5    49.858883    24.019121    77669       1456           6.74   \n",
       "6    49.842602    24.000990    57120       3846          13.16   \n",
       "\n",
       "   canceled_by_client  canceled_by_driver  ride_to_suburb  \n",
       "0                   0                   0               0  \n",
       "2                   0                   0               0  \n",
       "4                   0                   0               0  \n",
       "5                   0                   0               0  \n",
       "6                   0                   0               0  "
      ]
     },
     "execution_count": 8,
     "metadata": {},
     "output_type": "execute_result"
    }
   ],
   "source": [
    "frame.head()"
   ]
  },
  {
   "cell_type": "code",
   "execution_count": 18,
   "metadata": {},
   "outputs": [
    {
     "data": {
      "text/plain": [
       "0.0"
      ]
     },
     "execution_count": 18,
     "metadata": {},
     "output_type": "execute_result"
    }
   ],
   "source": [
    "frame.pickup_lat.min()"
   ]
  },
  {
   "cell_type": "code",
   "execution_count": 19,
   "metadata": {},
   "outputs": [],
   "source": [
    "import matplotlib.pyplot as plt"
   ]
  },
  {
   "cell_type": "code",
   "execution_count": 28,
   "metadata": {},
   "outputs": [
    {
     "data": {
      "image/png": "[encoded data removed]",
      "text/plain": [
       "<Figure size 1224x1224 with 1 Axes>"
      ]
     },
     "metadata": {},
     "output_type": "display_data"
    }
   ],
   "source": [
    "# city_long_border = (frame.pickup_lng.min(), frame.pickup_lng.max())\n",
    "city_long_border = (23, 25)\n",
    "# city_lat_border = (frame.pickup_lat.min(), frame.pickup_lat.max())\n",
    "city_lat_border = (49.5, 50.25)\n",
    "\n",
    "ax = plt.scatter(frame.pickup_lng.values, frame.pickup_lat.values,\n",
    "              color='blue', s=0.5, label='train', alpha=0.1)\n",
    "ax.axes.set_title('Coordinates of the calls')\n",
    "ax.figure.set_size_inches(17,17)\n",
    "plt.ylim(city_lat_border)\n",
    "plt.xlim(city_long_border)\n",
    "plt.show()"
   ]
  },
  {
   "cell_type": "code",
   "execution_count": null,
   "metadata": {},
   "outputs": [],
   "source": []
  }
 ],
 "metadata": {
  "kernelspec": {
   "display_name": "Python 3",
   "language": "python",
   "name": "python3"
  },
  "language_info": {
   "codemirror_mode": {
    "name": "ipython",
    "version": 3
   },
   "file_extension": ".py",
   "mimetype": "text/x-python",
   "name": "python",
   "nbconvert_exporter": "python",
   "pygments_lexer": "ipython3",
   "version": "3.6.5"
  }
 },
 "nbformat": 4,
 "nbformat_minor": 2
}
